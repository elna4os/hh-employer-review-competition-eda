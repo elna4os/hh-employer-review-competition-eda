{
 "cells": [
  {
   "cell_type": "code",
   "execution_count": 1,
   "id": "283e6145",
   "metadata": {},
   "outputs": [],
   "source": [
    "import re\n",
    "\n",
    "import numpy as np\n",
    "import pandas as pd\n",
    "import seaborn as sns\n",
    "from sklearn.preprocessing import LabelEncoder"
   ]
  },
  {
   "cell_type": "markdown",
   "id": "28745983",
   "metadata": {},
   "source": [
    "## Load the training data"
   ]
  },
  {
   "cell_type": "code",
   "execution_count": 2,
   "id": "5920a11c",
   "metadata": {},
   "outputs": [
    {
     "data": {
      "text/html": [
       "<div>\n",
       "<style scoped>\n",
       "    .dataframe tbody tr th:only-of-type {\n",
       "        vertical-align: middle;\n",
       "    }\n",
       "\n",
       "    .dataframe tbody tr th {\n",
       "        vertical-align: top;\n",
       "    }\n",
       "\n",
       "    .dataframe thead th {\n",
       "        text-align: right;\n",
       "    }\n",
       "</style>\n",
       "<table border=\"1\" class=\"dataframe\">\n",
       "  <thead>\n",
       "    <tr style=\"text-align: right;\">\n",
       "      <th></th>\n",
       "      <th>review_id</th>\n",
       "      <th>city</th>\n",
       "      <th>position</th>\n",
       "      <th>positive</th>\n",
       "      <th>negative</th>\n",
       "      <th>salary_rating</th>\n",
       "      <th>team_rating</th>\n",
       "      <th>managment_rating</th>\n",
       "      <th>career_rating</th>\n",
       "      <th>workplace_rating</th>\n",
       "      <th>rest_recovery_rating</th>\n",
       "      <th>target</th>\n",
       "    </tr>\n",
       "  </thead>\n",
       "  <tbody>\n",
       "    <tr>\n",
       "      <th>0</th>\n",
       "      <td>0</td>\n",
       "      <td>Ижевск</td>\n",
       "      <td>Кладовщик</td>\n",
       "      <td>Недавно устроился в ****** на должность кладов...</td>\n",
       "      <td>Повысить з/п</td>\n",
       "      <td>5</td>\n",
       "      <td>4</td>\n",
       "      <td>3</td>\n",
       "      <td>3</td>\n",
       "      <td>4</td>\n",
       "      <td>4</td>\n",
       "      <td>0</td>\n",
       "    </tr>\n",
       "    <tr>\n",
       "      <th>1</th>\n",
       "      <td>1</td>\n",
       "      <td>Москва</td>\n",
       "      <td>Руководитель проекта</td>\n",
       "      <td>Расположение офиса, своего рода стабильность (...</td>\n",
       "      <td>Упростить процессы - все процессы ради процесс...</td>\n",
       "      <td>4</td>\n",
       "      <td>4</td>\n",
       "      <td>4</td>\n",
       "      <td>1</td>\n",
       "      <td>1</td>\n",
       "      <td>1</td>\n",
       "      <td>8</td>\n",
       "    </tr>\n",
       "    <tr>\n",
       "      <th>2</th>\n",
       "      <td>2</td>\n",
       "      <td>Екатеринбург</td>\n",
       "      <td>Консультант</td>\n",
       "      <td>В нашем банке все по закону в плане зарплаты и...</td>\n",
       "      <td>Ничего</td>\n",
       "      <td>5</td>\n",
       "      <td>5</td>\n",
       "      <td>5</td>\n",
       "      <td>5</td>\n",
       "      <td>5</td>\n",
       "      <td>5</td>\n",
       "      <td>0</td>\n",
       "    </tr>\n",
       "    <tr>\n",
       "      <th>3</th>\n",
       "      <td>5</td>\n",
       "      <td>Санкт-Петербург</td>\n",
       "      <td>Оператор</td>\n",
       "      <td>Я в ****** около года работаю оператором. Норм...</td>\n",
       "      <td>Нет.</td>\n",
       "      <td>5</td>\n",
       "      <td>5</td>\n",
       "      <td>5</td>\n",
       "      <td>5</td>\n",
       "      <td>5</td>\n",
       "      <td>5</td>\n",
       "      <td>0</td>\n",
       "    </tr>\n",
       "    <tr>\n",
       "      <th>4</th>\n",
       "      <td>7</td>\n",
       "      <td>Москва</td>\n",
       "      <td>Инженер КИПиА</td>\n",
       "      <td>В принципе норм.Работать можно</td>\n",
       "      <td>Всегда есть к чему стремиться</td>\n",
       "      <td>4</td>\n",
       "      <td>5</td>\n",
       "      <td>4</td>\n",
       "      <td>2</td>\n",
       "      <td>5</td>\n",
       "      <td>2</td>\n",
       "      <td>8</td>\n",
       "    </tr>\n",
       "  </tbody>\n",
       "</table>\n",
       "</div>"
      ],
      "text/plain": [
       "   review_id             city              position  \\\n",
       "0          0           Ижевск             Кладовщик   \n",
       "1          1           Москва  Руководитель проекта   \n",
       "2          2     Екатеринбург           Консультант   \n",
       "3          5  Санкт-Петербург              Оператор   \n",
       "4          7           Москва         Инженер КИПиА   \n",
       "\n",
       "                                            positive  \\\n",
       "0  Недавно устроился в ****** на должность кладов...   \n",
       "1  Расположение офиса, своего рода стабильность (...   \n",
       "2  В нашем банке все по закону в плане зарплаты и...   \n",
       "3  Я в ****** около года работаю оператором. Норм...   \n",
       "4                     В принципе норм.Работать можно   \n",
       "\n",
       "                                            negative  salary_rating  \\\n",
       "0                                       Повысить з/п              5   \n",
       "1  Упростить процессы - все процессы ради процесс...              4   \n",
       "2                                             Ничего              5   \n",
       "3                                               Нет.              5   \n",
       "4                      Всегда есть к чему стремиться              4   \n",
       "\n",
       "   team_rating  managment_rating  career_rating  workplace_rating  \\\n",
       "0            4                 3              3                 4   \n",
       "1            4                 4              1                 1   \n",
       "2            5                 5              5                 5   \n",
       "3            5                 5              5                 5   \n",
       "4            5                 4              2                 5   \n",
       "\n",
       "   rest_recovery_rating target  \n",
       "0                     4      0  \n",
       "1                     1      8  \n",
       "2                     5      0  \n",
       "3                     5      0  \n",
       "4                     2      8  "
      ]
     },
     "execution_count": 2,
     "metadata": {},
     "output_type": "execute_result"
    }
   ],
   "source": [
    "df_train = pd.read_csv(\"data/HeadHunter_train.csv\")\n",
    "df_train.head()"
   ]
  },
  {
   "cell_type": "markdown",
   "id": "14bb0964",
   "metadata": {},
   "source": [
    "## Training DF shape"
   ]
  },
  {
   "cell_type": "code",
   "execution_count": 3,
   "id": "44285dd7",
   "metadata": {},
   "outputs": [
    {
     "data": {
      "text/plain": [
       "(50876, 12)"
      ]
     },
     "execution_count": 3,
     "metadata": {},
     "output_type": "execute_result"
    }
   ],
   "source": [
    "df_train.shape"
   ]
  },
  {
   "cell_type": "markdown",
   "id": "badabf9d",
   "metadata": {},
   "source": [
    "## Unique targets"
   ]
  },
  {
   "cell_type": "code",
   "execution_count": 4,
   "id": "537c613e",
   "metadata": {},
   "outputs": [
    {
     "name": "stdout",
     "output_type": "stream",
     "text": [
      "Unique labels num: 44\n",
      "Labels: {'1,3', '1,5,6', '7', '5', '1,2,6', '3', '1,6', '1,3,6', '4,8', '5,7,8', '1,5', '4', '7,8', '5,7', '3,6', '2', '1,7,8', '3,8', '5,6,8', '3,5', '1,3,5', '6', '5,6', '1,4,6', '3,7', '1,6,8', '6,7', '4,6', '0', '8', '1,3,8', '1,5,6,8', '6,8', '1,4,8', '4,6,8', '1', '1,8', '1,4', '1,7', '3,5,7', '3,6,8', '3,5,8', '1,5,8', '5,8'}\n"
     ]
    }
   ],
   "source": [
    "unique_labels = set(df_train.target)\n",
    "print(f\"Unique labels num: {len(unique_labels)}\")\n",
    "print(f\"Labels: {unique_labels}\")"
   ]
  },
  {
   "cell_type": "markdown",
   "id": "c8caff5a",
   "metadata": {},
   "source": [
    "## Targets parsing"
   ]
  },
  {
   "cell_type": "code",
   "execution_count": 5,
   "id": "09a91e07",
   "metadata": {},
   "outputs": [
    {
     "data": {
      "text/html": [
       "<div>\n",
       "<style scoped>\n",
       "    .dataframe tbody tr th:only-of-type {\n",
       "        vertical-align: middle;\n",
       "    }\n",
       "\n",
       "    .dataframe tbody tr th {\n",
       "        vertical-align: top;\n",
       "    }\n",
       "\n",
       "    .dataframe thead th {\n",
       "        text-align: right;\n",
       "    }\n",
       "</style>\n",
       "<table border=\"1\" class=\"dataframe\">\n",
       "  <thead>\n",
       "    <tr style=\"text-align: right;\">\n",
       "      <th></th>\n",
       "      <th>target_0</th>\n",
       "      <th>target_1</th>\n",
       "      <th>target_2</th>\n",
       "      <th>target_3</th>\n",
       "      <th>target_4</th>\n",
       "      <th>target_5</th>\n",
       "      <th>target_6</th>\n",
       "      <th>target_7</th>\n",
       "      <th>target_8</th>\n",
       "    </tr>\n",
       "  </thead>\n",
       "  <tbody>\n",
       "    <tr>\n",
       "      <th>0</th>\n",
       "      <td>1</td>\n",
       "      <td>0</td>\n",
       "      <td>0</td>\n",
       "      <td>0</td>\n",
       "      <td>0</td>\n",
       "      <td>0</td>\n",
       "      <td>0</td>\n",
       "      <td>0</td>\n",
       "      <td>0</td>\n",
       "    </tr>\n",
       "    <tr>\n",
       "      <th>1</th>\n",
       "      <td>0</td>\n",
       "      <td>0</td>\n",
       "      <td>0</td>\n",
       "      <td>0</td>\n",
       "      <td>0</td>\n",
       "      <td>0</td>\n",
       "      <td>0</td>\n",
       "      <td>0</td>\n",
       "      <td>1</td>\n",
       "    </tr>\n",
       "    <tr>\n",
       "      <th>2</th>\n",
       "      <td>1</td>\n",
       "      <td>0</td>\n",
       "      <td>0</td>\n",
       "      <td>0</td>\n",
       "      <td>0</td>\n",
       "      <td>0</td>\n",
       "      <td>0</td>\n",
       "      <td>0</td>\n",
       "      <td>0</td>\n",
       "    </tr>\n",
       "    <tr>\n",
       "      <th>3</th>\n",
       "      <td>1</td>\n",
       "      <td>0</td>\n",
       "      <td>0</td>\n",
       "      <td>0</td>\n",
       "      <td>0</td>\n",
       "      <td>0</td>\n",
       "      <td>0</td>\n",
       "      <td>0</td>\n",
       "      <td>0</td>\n",
       "    </tr>\n",
       "    <tr>\n",
       "      <th>4</th>\n",
       "      <td>0</td>\n",
       "      <td>0</td>\n",
       "      <td>0</td>\n",
       "      <td>0</td>\n",
       "      <td>0</td>\n",
       "      <td>0</td>\n",
       "      <td>0</td>\n",
       "      <td>0</td>\n",
       "      <td>1</td>\n",
       "    </tr>\n",
       "  </tbody>\n",
       "</table>\n",
       "</div>"
      ],
      "text/plain": [
       "   target_0  target_1  target_2  target_3  target_4  target_5  target_6  \\\n",
       "0         1         0         0         0         0         0         0   \n",
       "1         0         0         0         0         0         0         0   \n",
       "2         1         0         0         0         0         0         0   \n",
       "3         1         0         0         0         0         0         0   \n",
       "4         0         0         0         0         0         0         0   \n",
       "\n",
       "   target_7  target_8  \n",
       "0         0         0  \n",
       "1         0         1  \n",
       "2         0         0  \n",
       "3         0         0  \n",
       "4         0         1  "
      ]
     },
     "execution_count": 5,
     "metadata": {},
     "output_type": "execute_result"
    }
   ],
   "source": [
    "target_num = np.zeros((len(df_train), 9), dtype=int)\n",
    "for i, target in enumerate(df_train.target):\n",
    "    indices = list(map(int, target.split(\",\")))\n",
    "    target_num[i, indices] = 1\n",
    "target_cols = list(map(lambda x: f'target_{x}', range(9)))\n",
    "df_target = pd.DataFrame(\n",
    "    data=target_num,\n",
    "    columns=target_cols\n",
    ")\n",
    "\n",
    "df_target.head()"
   ]
  },
  {
   "cell_type": "markdown",
   "id": "b4970523",
   "metadata": {},
   "source": [
    "## Replace original target with parsed"
   ]
  },
  {
   "cell_type": "code",
   "execution_count": 6,
   "id": "c406649d",
   "metadata": {},
   "outputs": [],
   "source": [
    "del df_train['target']\n",
    "for col in df_target.columns:\n",
    "    df_train[col] = df_target[col]"
   ]
  },
  {
   "cell_type": "markdown",
   "id": "4fdd8b7c",
   "metadata": {},
   "source": [
    "## Single targets distribution (%)"
   ]
  },
  {
   "cell_type": "code",
   "execution_count": 7,
   "id": "61e7f6fa",
   "metadata": {},
   "outputs": [
    {
     "data": {
      "text/plain": [
       "<AxesSubplot:>"
      ]
     },
     "execution_count": 7,
     "metadata": {},
     "output_type": "execute_result"
    },
    {
     "data": {
      "image/png": "[encoded data removed]",
      "text/plain": [
       "<Figure size 432x288 with 1 Axes>"
      ]
     },
     "metadata": {
      "needs_background": "light"
     },
     "output_type": "display_data"
    }
   ],
   "source": [
    "(df_train[target_cols].sum() / len(df_train) * 100).plot(kind='barh')"
   ]
  },
  {
   "cell_type": "markdown",
   "id": "f4cc3510",
   "metadata": {},
   "source": [
    "**Numeric representation (%)**"
   ]
  },
  {
   "cell_type": "code",
   "execution_count": 8,
   "id": "6d38f442",
   "metadata": {},
   "outputs": [
    {
     "name": "stdout",
     "output_type": "stream",
     "text": [
      "target_0 41.282726629452\n",
      "target_1 6.126660901014231\n",
      "target_2 0.02555232329585659\n",
      "target_3 2.2387766333831274\n",
      "target_4 0.21817752968000628\n",
      "target_5 0.7390518122493906\n",
      "target_6 2.101187200251592\n",
      "target_7 0.7685352622061482\n",
      "target_8 52.154257410173756\n"
     ]
    }
   ],
   "source": [
    "for col in target_cols:\n",
    "    val = df_train[col].sum() / len(df_train) * 100\n",
    "    print(col, val)"
   ]
  },
  {
   "cell_type": "markdown",
   "id": "2ad1c497-1ad0-4a67-a01f-7f47cc666216",
   "metadata": {},
   "source": [
    "- Most frequent - 8  \n",
    "- Most rare - 2  \n",
    "- Significant fraction of reviews are passed  \n",
    "- Target is strongly imbalanced"
   ]
  },
  {
   "cell_type": "markdown",
   "id": "e28511d8",
   "metadata": {},
   "source": [
    "## Columns with missing values (%)"
   ]
  },
  {
   "cell_type": "code",
   "execution_count": 9,
   "id": "937b1d60",
   "metadata": {},
   "outputs": [
    {
     "data": {
      "text/plain": [
       "<AxesSubplot:>"
      ]
     },
     "execution_count": 9,
     "metadata": {},
     "output_type": "execute_result"
    },
    {
     "data": {
      "image/png": "[encoded data removed]",
      "text/plain": [
       "<Figure size 432x288 with 1 Axes>"
      ]
     },
     "metadata": {
      "needs_background": "light"
     },
     "output_type": "display_data"
    }
   ],
   "source": [
    "missing_values = df_train.isna().sum() / len(df_train) * 100\n",
    "(missing_values[missing_values > 0]).plot(kind='barh')"
   ]
  },
  {
   "cell_type": "markdown",
   "id": "ef776f64",
   "metadata": {},
   "source": [
    "## Number of rows after dropping NaN values"
   ]
  },
  {
   "cell_type": "code",
   "execution_count": 10,
   "id": "c76b8837",
   "metadata": {},
   "outputs": [
    {
     "data": {
      "text/plain": [
       "44121"
      ]
     },
     "execution_count": 10,
     "metadata": {},
     "output_type": "execute_result"
    }
   ],
   "source": [
    "len(df_train.dropna())"
   ]
  },
  {
   "cell_type": "markdown",
   "id": "098dec40",
   "metadata": {},
   "source": [
    "## Distribution of number of reasons for rejected reviews"
   ]
  },
  {
   "cell_type": "code",
   "execution_count": 11,
   "id": "362bcf5f",
   "metadata": {},
   "outputs": [
    {
     "data": {
      "text/plain": [
       "<AxesSubplot:xlabel='Count'>"
      ]
     },
     "execution_count": 11,
     "metadata": {},
     "output_type": "execute_result"
    },
    {
     "data": {
      "image/png": "[encoded data removed]",
      "text/plain": [
       "<Figure size 432x288 with 1 Axes>"
      ]
     },
     "metadata": {
      "needs_background": "light"
     },
     "output_type": "display_data"
    }
   ],
   "source": [
    "sns.histplot(y=df_train.loc[df_train.target_0 == 0, target_cols].sum(axis=1))"
   ]
  },
  {
   "cell_type": "markdown",
   "id": "3c2b1bf8-bcd4-4a58-8de2-baffd3991850",
   "metadata": {},
   "source": [
    "**Numeric representation**"
   ]
  },
  {
   "cell_type": "code",
   "execution_count": 12,
   "id": "b3fdc4ce-d85f-4cc4-86a6-177420e4949e",
   "metadata": {},
   "outputs": [
    {
     "data": {
      "text/plain": [
       "1    27113\n",
       "2     2644\n",
       "3      115\n",
       "4        1\n",
       "dtype: int64"
      ]
     },
     "execution_count": 12,
     "metadata": {},
     "output_type": "execute_result"
    }
   ],
   "source": [
    "df_train.loc[df_train.target_0 == 0, target_cols].sum(axis=1).value_counts()"
   ]
  },
  {
   "cell_type": "markdown",
   "id": "bba3f2a4",
   "metadata": {},
   "source": [
    "**Overwhelming majority of reviews are rejected because of single reason**"
   ]
  },
  {
   "cell_type": "markdown",
   "id": "694c5b45-bebb-4ffa-9c2e-14f67492c864",
   "metadata": {},
   "source": [
    "## Ratings"
   ]
  },
  {
   "cell_type": "code",
   "execution_count": 13,
   "id": "9ed326b5",
   "metadata": {},
   "outputs": [
    {
     "data": {
      "text/plain": [
       "<AxesSubplot:>"
      ]
     },
     "execution_count": 13,
     "metadata": {},
     "output_type": "execute_result"
    },
    {
     "data": {
      "image/png": "[encoded data removed]",
      "text/plain": [
       "<Figure size 432x288 with 1 Axes>"
      ]
     },
     "metadata": {
      "needs_background": "light"
     },
     "output_type": "display_data"
    }
   ],
   "source": [
    "rating_cols = [x for x in df_train.columns if x.endswith('rating')]\n",
    "sns.boxplot(data=df_train[rating_cols], orient='h')"
   ]
  },
  {
   "cell_type": "markdown",
   "id": "023b0362-6589-4d24-b18a-57ee9e0e38e7",
   "metadata": {},
   "source": [
    "# Cities (unique, sorted)"
   ]
  },
  {
   "cell_type": "code",
   "execution_count": 14,
   "id": "f9e5023f",
   "metadata": {},
   "outputs": [
    {
     "data": {
      "text/plain": [
       "Москва             23436\n",
       "Санкт-Петербург     4841\n",
       "Краснодар           1436\n",
       "Екатеринбург         836\n",
       "Нижний Новгород      782\n",
       "                   ...  \n",
       "Дудинка                1\n",
       "Подпорожье             1\n",
       "Назрань                1\n",
       "Нарьян-Мар             1\n",
       "Октябрьский            1\n",
       "Name: city, Length: 852, dtype: int64"
      ]
     },
     "execution_count": 14,
     "metadata": {},
     "output_type": "execute_result"
    }
   ],
   "source": [
    "df_train.city.value_counts().sort_values(ascending=False)"
   ]
  },
  {
   "cell_type": "markdown",
   "id": "888955be-eb4d-4a00-9c32-fdb643f42175",
   "metadata": {},
   "source": [
    "**Plot representation (for convenience, names are encoded with numbers)**"
   ]
  },
  {
   "cell_type": "code",
   "execution_count": 15,
   "id": "4248002c",
   "metadata": {},
   "outputs": [
    {
     "data": {
      "text/plain": [
       "<AxesSubplot:xlabel='Count'>"
      ]
     },
     "execution_count": 15,
     "metadata": {},
     "output_type": "execute_result"
    },
    {
     "data": {
      "image/png": "[encoded data removed]",
      "text/plain": [
       "<Figure size 432x288 with 1 Axes>"
      ]
     },
     "metadata": {
      "needs_background": "light"
     },
     "output_type": "display_data"
    }
   ],
   "source": [
    "city_encoder = LabelEncoder()\n",
    "cities_label_encoded = city_encoder.fit_transform(df_train.city)\n",
    "sns.histplot(y=cities_label_encoded)"
   ]
  },
  {
   "cell_type": "markdown",
   "id": "56f41017-97ac-47fe-b50d-cb096d7800e3",
   "metadata": {},
   "source": [
    "## Number of unique positions, some examples"
   ]
  },
  {
   "cell_type": "code",
   "execution_count": 16,
   "id": "b708cdd2",
   "metadata": {},
   "outputs": [
    {
     "name": "stdout",
     "output_type": "stream",
     "text": [
      "Number of unique positions: 12259\n"
     ]
    },
    {
     "data": {
      "text/plain": [
       "['\"Слесарь-электрик\"',\n",
       " '(кладовщик)Специалист по приему товара',\n",
       " '****** Marketing Service Director',\n",
       " '****** специалист',\n",
       " '-',\n",
       " '...',\n",
       " '.....',\n",
       " '.NET разработчик',\n",
       " '.Net Develover',\n",
       " '.Net Fullstack',\n",
       " '.юрист',\n",
       " '1. Инженер;',\n",
       " '1321',\n",
       " '1с программист',\n",
       " '1ый заместитель Директора по маркетингу',\n",
       " '23',\n",
       " '25',\n",
       " '3 Помощник Капитана Судна',\n",
       " '3 помощник капитана',\n",
       " '3D дизайнер',\n",
       " '5662',\n",
       " '????????',\n",
       " 'AML compliance officer',\n",
       " 'AML group (Financial sanctions) Leading officer',\n",
       " 'ARGM',\n",
       " 'Account Group Head',\n",
       " 'Account Manager',\n",
       " 'Account менеджер',\n",
       " 'Accountant',\n",
       " 'Accounting & Reporting specialist']"
      ]
     },
     "execution_count": 16,
     "metadata": {},
     "output_type": "execute_result"
    }
   ],
   "source": [
    "positions_unique_train = sorted(list(map(str, df_train.position.unique().tolist())))\n",
    "print(f\"Number of unique positions: {len(positions_unique_train)}\")\n",
    "positions_unique_train[:30]"
   ]
  },
  {
   "cell_type": "markdown",
   "id": "47a87e76-50cd-4ba1-af53-31dddccc699b",
   "metadata": {},
   "source": [
    "**It seems that position column is really noisy. Let's clean it**\n",
    "- Lower\n",
    "- Remove everything except letters and spaces\n",
    "- Remove unneeded spaces\n",
    "- If not empty - return result, else return \"-\"  \n",
    "\n",
    "**Also missing values will be replaced by \"-\"**"
   ]
  },
  {
   "cell_type": "code",
   "execution_count": 17,
   "id": "22afed1f",
   "metadata": {},
   "outputs": [],
   "source": [
    "def clean_text(text):\n",
    "    if text == \"-\":\n",
    "        return text\n",
    "    res = str(text).lower()\n",
    "    res = re.sub(r\"[^ \\w+]\", \" \", res)\n",
    "    res = \"\".join([x for x in res if not x.isdigit()])\n",
    "    res = \" \".join(res.split())\n",
    "    \n",
    "    if not res:\n",
    "        return \"-\"\n",
    "\n",
    "    return res"
   ]
  },
  {
   "cell_type": "code",
   "execution_count": 18,
   "id": "54d0fa4d-0246-4321-97d4-5c40b53d95ff",
   "metadata": {},
   "outputs": [
    {
     "name": "stdout",
     "output_type": "stream",
     "text": [
      "Number of unique cleaned positions: 12019\n"
     ]
    },
    {
     "data": {
      "text/plain": [
       "['-',\n",
       " 'account group head',\n",
       " 'account manager',\n",
       " 'account менеджер',\n",
       " 'accountant',\n",
       " 'accounting reporting specialist',\n",
       " 'accounts payable',\n",
       " 'acting of chief engineer',\n",
       " 'actuary',\n",
       " 'administrative assistant',\n",
       " 'administrative assurance',\n",
       " 'administrator of expert resource service',\n",
       " 'advanced staff',\n",
       " 'advisory engineer project deputy technical director',\n",
       " 'after sales project analysis specialist',\n",
       " 'agile coach',\n",
       " 'agile коуч',\n",
       " 'american express concierge service',\n",
       " 'aml compliance officer',\n",
       " 'aml group financial sanctions leading officer',\n",
       " 'analyst',\n",
       " 'analyst in finansial department',\n",
       " 'analyst in model s validation unit',\n",
       " 'android developer',\n",
       " 'android разработчик',\n",
       " 'any',\n",
       " 'architect',\n",
       " 'area manager',\n",
       " 'area sales manager',\n",
       " 'area team lider']"
      ]
     },
     "execution_count": 18,
     "metadata": {},
     "output_type": "execute_result"
    }
   ],
   "source": [
    "df_train.position.fillna(\"-\", inplace=True)\n",
    "df_train['position_cleaned'] = df_train.position.apply(lambda x: clean_text(x))\n",
    "positions_cleaned_unique_train = sorted(list(map(str, df_train.position_cleaned.unique().tolist())))\n",
    "print(f\"Number of unique cleaned positions: {len(positions_cleaned_unique_train)}\")\n",
    "positions_cleaned_unique_train[:30]"
   ]
  },
  {
   "cell_type": "markdown",
   "id": "6a4ea51a-640b-4da8-bfa4-1911659f6fab",
   "metadata": {},
   "source": [
    "**It seems there are many semantic duplicates among positions**"
   ]
  },
  {
   "cell_type": "markdown",
   "id": "e6dff4ab-1d16-4184-aee3-93d9142d117a",
   "metadata": {},
   "source": [
    "## Positive/negative texts\n",
    "**Replace missing values and apply clean the same way as we did for positions**"
   ]
  },
  {
   "cell_type": "code",
   "execution_count": 19,
   "id": "5392d079",
   "metadata": {},
   "outputs": [],
   "source": [
    "df_train.positive.fillna(\"-\", inplace=True)\n",
    "df_train.negative.fillna(\"-\", inplace=True)\n",
    "\n",
    "df_train = df_train.assign(\n",
    "    positive_preprocessed=df_train.positive.apply(lambda x: clean_text(x)),\n",
    "    negative_preprocessed=df_train.negative.apply(lambda x: clean_text(x))\n",
    ")"
   ]
  },
  {
   "cell_type": "markdown",
   "id": "bbe57105-7e58-4752-a240-5a6fe2894ff0",
   "metadata": {},
   "source": [
    "**Positive/negative texts lengths (in number of words)**"
   ]
  },
  {
   "cell_type": "code",
   "execution_count": 20,
   "id": "59ab105f",
   "metadata": {},
   "outputs": [
    {
     "data": {
      "text/plain": [
       "<AxesSubplot:>"
      ]
     },
     "execution_count": 20,
     "metadata": {},
     "output_type": "execute_result"
    },
    {
     "data": {
      "image/png": "[encoded data removed]",
      "text/plain": [
       "<Figure size 432x288 with 1 Axes>"
      ]
     },
     "metadata": {
      "needs_background": "light"
     },
     "output_type": "display_data"
    }
   ],
   "source": [
    "df_train = df_train.assign(\n",
    "    positive_preprocessed_len=df_train.positive_preprocessed.apply(lambda x: len(x.split())),\n",
    "    negative_preprocessed_len=df_train.negative_preprocessed.apply(lambda x: len(x.split()))\n",
    ")\n",
    "sns.boxplot(\n",
    "    data=df_train[[\"positive_preprocessed_len\", \"negative_preprocessed_len\"]],\n",
    "    orient='h'\n",
    ")"
   ]
  },
  {
   "cell_type": "markdown",
   "id": "41083543-4259-4018-9176-73f6e4f4daed",
   "metadata": {},
   "source": [
    "**Q1/median/Q3/IQR**"
   ]
  },
  {
   "cell_type": "code",
   "execution_count": 21,
   "id": "785c870a-9df9-4695-9fde-2d57cfb6a87c",
   "metadata": {},
   "outputs": [
    {
     "name": "stdout",
     "output_type": "stream",
     "text": [
      "Positive: 4/7/23/19\n",
      "Negative: 4/6/12/8\n"
     ]
    }
   ],
   "source": [
    "positive_median = int(df_train.positive_preprocessed_len.quantile(q=0.5))\n",
    "positive_q1 = int(df_train.positive_preprocessed_len.quantile(q=0.25))\n",
    "positive_q3 = int(df_train.positive_preprocessed_len.quantile(q=0.75))\n",
    "positive_iqr = positive_q3 - positive_q1\n",
    "\n",
    "negative_median = int(df_train.negative_preprocessed_len.quantile(q=0.5))\n",
    "negative_q1 = int(df_train.negative_preprocessed_len.quantile(q=0.25))\n",
    "negative_q3 = int(df_train.negative_preprocessed_len.quantile(q=0.75))\n",
    "negative_iqr = negative_q3 - negative_q1\n",
    "\n",
    "print(f\"Positive: {positive_q1}/{positive_median}/{positive_q3}/{positive_iqr}\")\n",
    "print(f\"Negative: {negative_q1}/{negative_median}/{negative_q3}/{negative_iqr}\")"
   ]
  },
  {
   "cell_type": "markdown",
   "id": "ae866d57-29df-4cbd-aa30-ce4f448d6f85",
   "metadata": {},
   "source": [
    "**Number of outliers (too long or short texts) for positive/negative texts**"
   ]
  },
  {
   "cell_type": "code",
   "execution_count": 22,
   "id": "79c7416c-63bb-475c-952e-49b33056a8d7",
   "metadata": {},
   "outputs": [
    {
     "name": "stdout",
     "output_type": "stream",
     "text": [
      "Positive:\n",
      "too short=0\n",
      "too long=5323\n",
      "\n",
      "Negative:\n",
      "too short=0\n",
      "too long=2526\n"
     ]
    }
   ],
   "source": [
    "print(\"Positive:\")\n",
    "print(f\"too short={len(df_train.positive_preprocessed_len[df_train.positive_preprocessed_len <= positive_q1 - 1.5 * positive_iqr])}\")\n",
    "print(f\"too long={len(df_train.positive_preprocessed_len[df_train.positive_preprocessed_len >= positive_q3 + 1.5 * positive_iqr])}\")\n",
    "print()\n",
    "print(\"Negative:\")\n",
    "print(f\"too short={len(df_train.negative_preprocessed_len[df_train.negative_preprocessed_len <= negative_q1 - 1.5 * negative_iqr])}\")\n",
    "print(f\"too long={len(df_train.negative_preprocessed_len[df_train.negative_preprocessed_len >= negative_q3 + 1.5 * positive_iqr])}\")"
   ]
  },
  {
   "cell_type": "markdown",
   "id": "08f31817-48d7-4246-b417-67dab1e36396",
   "metadata": {},
   "source": [
    "**Number of reviews that have too long positive and negative text at the same time**"
   ]
  },
  {
   "cell_type": "code",
   "execution_count": 23,
   "id": "bfd41e78-e1c7-4bbe-a150-b17b7e50330d",
   "metadata": {},
   "outputs": [
    {
     "data": {
      "text/plain": [
       "255"
      ]
     },
     "execution_count": 23,
     "metadata": {},
     "output_type": "execute_result"
    }
   ],
   "source": [
    "len(df_train[\n",
    "    (df_train.positive_preprocessed_len >= positive_q3 + 1.5 * positive_iqr) & \n",
    "    (df_train.negative_preprocessed_len[df_train.negative_preprocessed_len >= negative_q3 + 1.5 * positive_iqr])\n",
    "])"
   ]
  }
 ],
 "metadata": {
  "kernelspec": {
   "display_name": "Python 3",
   "language": "python",
   "name": "python3"
  },
  "language_info": {
   "codemirror_mode": {
    "name": "ipython",
    "version": 3
   },
   "file_extension": ".py",
   "mimetype": "text/x-python",
   "name": "python",
   "nbconvert_exporter": "python",
   "pygments_lexer": "ipython3",
   "version": "3.6.13"
  }
 },
 "nbformat": 4,
 "nbformat_minor": 5
}